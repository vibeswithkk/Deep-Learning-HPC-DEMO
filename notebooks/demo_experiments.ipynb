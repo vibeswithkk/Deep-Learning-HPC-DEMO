{
 "cells": [
  {
   "cell_type": "markdown",
   "id": "e66b7ec2",
   "metadata": {},
   "source": [
    "# Deep Learning HPC Demo\n",
    "\n",
    "This notebook demonstrates the usage of the HPC-ready deep learning framework."
   ]
  },
  {
   "cell_type": "code",
   "execution_count": null,
   "id": "f15ad61c",
   "metadata": {},
   "outputs": [],
   "source": [
    "import sys\n",
    "sys.path.append('..')\n",
    "\n",
    "import jax\n",
    "import jax.numpy as jnp\n",
    "import numpy as np\n",
    "from src.models.flax_cnn import create_model\n",
    "from src.training.train_hpc import create_train_state\n",
    "import ml_collections\n",
    "import yaml"
   ]
  },
  {
   "cell_type": "code",
   "execution_count": null,
   "id": "81f19a0d",
   "metadata": {},
   "outputs": [],
   "source": [
    "with open('../config/train_config.yaml', 'r') as f:\n",
    "    config_dict = yaml.safe_load(f)\n",
    "\n",
    "config = ml_collections.ConfigDict(config_dict)"
   ]
  },
  {
   "cell_type": "code",
   "execution_count": null,
   "id": "3e23e79d",
   "metadata": {},
   "outputs": [],
   "source": [
    "rng = jax.random.PRNGKey(0)\n",
    "model = create_model(num_classes=config.model.num_classes)\n",
    "variables = model.init(rng, jnp.ones([1, *config.model.input_shape]))\n",
    "params = variables['params']\n",
    "\n",
    "print(f\"Model created with input shape: {config.model.input_shape}\")\n",
    "print(f\"Number of classes: {config.model.num_classes}\")"
   ]
  },
  {
   "cell_type": "code",
   "execution_count": null,
   "id": "79981560",
   "metadata": {},
   "outputs": [],
   "source": [
    "state = create_train_state(rng, config)\n",
    "print(f\"Training state initialized with optimizer: {config.training.optimizer}\")\n",
    "print(f\"Learning rate: {config.training.learning_rate}\")"
   ]
  },
  {
   "cell_type": "code",
   "execution_count": null,
   "id": "9e69f721",
   "metadata": {},
   "outputs": [],
   "source": [
    "sample_input = jnp.ones([1, *config.model.input_shape])\n",
    "output = model.apply({'params': params}, sample_input, train=False)\n",
    "print(f\"Model output shape: {output.shape}\")\n",
    "print(f\"Output sample: {output[0][:5]}\")"
   ]
  },
  {
   "cell_type": "markdown",
   "id": "00fe49f5",
   "metadata": {},
   "source": [
    "## Distributed Training Setup\n",
    "\n",
    "The following code demonstrates how to set up distributed training across multiple nodes."
   ]
  },
  {
   "cell_type": "code",
   "execution_count": null,
   "id": "49a30fcf",
   "metadata": {},
   "outputs": [],
   "source": [
    "import jax.tools.multihost_utils as multihost_utils\n",
    "\n",
    "print(f\"Number of devices: {jax.device_count()}\")\n",
    "print(f\"Number of local devices: {jax.local_device_count()}\")\n",
    "print(f\"Process count: {jax.process_count()}\")\n",
    "print(f\"Process index: {jax.process_index()}\")"
   ]
  },
  {
   "cell_type": "markdown",
   "id": "5ae7c6e1",
   "metadata": {},
   "source": [
    "## Model Serving with Ray\n",
    "\n",
    "The following code demonstrates how to deploy the model using Ray Serve."
   ]
  },
  {
   "cell_type": "code",
   "execution_count": null,
   "id": "2560cd79",
   "metadata": {},
   "outputs": [],
   "source": [
    "import ray\n",
    "from ray import serve\n",
    "\n",
    "ray.init(ignore_reinit_error=True)\n",
    "serve.start(detached=True)\n",
    "\n",
    "print(\"Ray cluster initialized for model serving\")"
   ]
  }
 ],
 "metadata": {
  "language_info": {
   "name": "python"
  }
 },
 "nbformat": 4,
 "nbformat_minor": 5
}
